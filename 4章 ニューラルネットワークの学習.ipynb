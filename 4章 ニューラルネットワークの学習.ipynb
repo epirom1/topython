{
 "cells": [
  {
   "cell_type": "code",
   "execution_count": 3,
   "metadata": {},
   "outputs": [
    {
     "data": {
      "text/plain": [
       "0.097500000000000031"
      ]
     },
     "execution_count": 3,
     "metadata": {},
     "output_type": "execute_result"
    }
   ],
   "source": [
    "#4.2.1 2乗和誤差\n",
    "\n",
    "import numpy as np\n",
    "\n",
    "def mean_squared_error(y, t):\n",
    "    return 0.5 * np.sum((y-t)**2)\n",
    "\n",
    "t = [0, 0, 1, 0, 0, 0, 0, 0, 0, 0] #正解を「2」とする\n",
    "\n",
    "#例1:「2」の確率が最も高い場合\n",
    "y = [0.1, 0.05, 0.6, 0.0, 0.05, 0.1, 0.0, 0.1, 0.0, 0.0] \n",
    "mean_squared_error(np.array(y), np.array(t))"
   ]
  },
  {
   "cell_type": "code",
   "execution_count": 4,
   "metadata": {},
   "outputs": [
    {
     "data": {
      "text/plain": [
       "0.59750000000000003"
      ]
     },
     "execution_count": 4,
     "metadata": {},
     "output_type": "execute_result"
    }
   ],
   "source": [
    "#例1:「7」の確率が最も高い場合\n",
    "y = [0.1, 0.05, 0.1, 0.0, 0.05, 0.1, 0.0, 0.6, 0.0, 0.0] \n",
    "mean_squared_error(np.array(y), np.array(t))"
   ]
  },
  {
   "cell_type": "code",
   "execution_count": 7,
   "metadata": {},
   "outputs": [],
   "source": [
    "def cross_entropy_error(y, t):\n",
    "    delta = 1e-7 #log(0)のオーバーフロー対策\n",
    "    return -np.sum(t*np.log(y+delta))"
   ]
  },
  {
   "cell_type": "code",
   "execution_count": 8,
   "metadata": {},
   "outputs": [
    {
     "data": {
      "text/plain": [
       "0.51082545709933802"
      ]
     },
     "execution_count": 8,
     "metadata": {},
     "output_type": "execute_result"
    }
   ],
   "source": [
    "# t=1のときy=0.6\n",
    "t = [0, 0, 1, 0, 0, 0, 0, 0, 0, 0]\n",
    "y = [0.1, 0.05 , 0.6, 0.0, 0.05, 0.1, 0.0, 0.1, 0.0, 0.0]\n",
    "cross_entropy_error(np.array(y), np.array(t))"
   ]
  },
  {
   "cell_type": "code",
   "execution_count": 9,
   "metadata": {},
   "outputs": [
    {
     "data": {
      "text/plain": [
       "2.3025840929945458"
      ]
     },
     "execution_count": 9,
     "metadata": {},
     "output_type": "execute_result"
    }
   ],
   "source": [
    "# t=1のときy=0.1\n",
    "y = [0.1, 0.05, 0.1, 0.0, 0.05, 0.1, 0.0, 0.1, 0.0, 0.0]\n",
    "cross_entropy_error(np.array(y), np.array(t))"
   ]
  },
  {
   "cell_type": "code",
   "execution_count": 10,
   "metadata": {},
   "outputs": [
    {
     "name": "stdout",
     "output_type": "stream",
     "text": [
      "(60000, 784)\n",
      "(60000, 10)\n"
     ]
    }
   ],
   "source": [
    "import sys, os\n",
    "sys.path.append(os.pardir)\n",
    "import numpy as np\n",
    "from dataset.mnist import load_mnist #load_mnist関数はMNISTデータセットを読み込むための関数\n",
    "\n",
    "(x_train, t_train), (x_test, t_test) = load_mnist(normalize=True, one_hot_label=True)\n",
    "# one_hot_label=Trueとすることにより、one-hot表現とするデータ構造を取得できる\n",
    "\n",
    "print(x_train.shape) #(60000, 784)\n",
    "print(t_train.shape) #(60000, 10)"
   ]
  },
  {
   "cell_type": "code",
   "execution_count": 11,
   "metadata": {},
   "outputs": [],
   "source": [
    "train_size = x_train.shape[0]\n",
    "batch_size = 10\n",
    "batch_mask = np.random.choice(train_size, batch_size) \n",
    "# np.random.choice()を使えば、指定された数字の中からタンダムに好きな数だけ取り出すことができる。\n",
    "x_batch = x_train[batch_mask]\n",
    "t_batch = t_train[batch_mask]"
   ]
  },
  {
   "cell_type": "code",
   "execution_count": 16,
   "metadata": {},
   "outputs": [
    {
     "data": {
      "text/plain": [
       "array([22205, 33493, 27136, 26678, 10321, 32623, 47497, 47449, 14527, 34923])"
      ]
     },
     "execution_count": 16,
     "metadata": {},
     "output_type": "execute_result"
    }
   ],
   "source": [
    "np.random.choice(60000, 10)\n",
    "# 0から60000未満の数字の中からランダムに10個の数字を選び出す\n",
    "# 後はインデックスを指定して、ミニバッチを取り出し、損失関数を計算する\n",
    "# 関東地方の中から無作為に選ばれた1000生体を対象に視聴率を計測することで、関東地方全体の視聴率を近似して求めることができる\n",
    "# 1000世帯の視聴率は、全体のおおよその値として用いることができる"
   ]
  },
  {
   "cell_type": "code",
   "execution_count": 17,
   "metadata": {},
   "outputs": [],
   "source": [
    "#ミニバッチのようなバッチデータに対応した交差エントロピー誤差\n",
    "def cross_entropy_error(y, t):\n",
    "    if y.ndim == 1:\n",
    "        t = t.reshape(1, t.size)\n",
    "        y = y.reshape(1, y.size)\n",
    "        \n",
    "    batch_size = y.shape[0]\n",
    "    return -np.sum(t * np.log(y + 1e-7)) / batch_size"
   ]
  },
  {
   "cell_type": "code",
   "execution_count": 19,
   "metadata": {},
   "outputs": [],
   "source": [
    "# yはニューラルネットワークの出力\n",
    "# tは教師データ\n",
    "# 教師データがラベルとして与えられたとき(one-hot表現ではないとき)を考える\n",
    "def cross_entropy_error(y, t):\n",
    "    if y.dim == 1:\n",
    "        t = t.reshape(1, t.size)\n",
    "        y = y.reshape(1, y.size)\n",
    "        \n",
    "    batch_size = y.shape[0]\n",
    "    return -np.sum(np.log(y[np.arrange(batch_size), t] + 1e-07)) / batch_size\n",
    "\n",
    "# np.arange(batch_size)は、0からbatch_size-1までの配列を生成する。\n",
    "# 例えばbatch_sizeが5だとしたら、np.arange(batch_size)は[0,1,2,3,4]のNumPy配列を生成する。\n",
    "# tにはラベルが[2,7,0,9,4]のように格納されているので、y[np.arange(batch_size),t]は、\n",
    "# 各データの正解ラベルに対応するニューラルネットワークの出力を抽出する"
   ]
  },
  {
   "cell_type": "code",
   "execution_count": 20,
   "metadata": {},
   "outputs": [],
   "source": [
    "# 4.3.1 微分\n",
    "# 悪い実装例\n",
    "def numerical_diff(f, x):\n",
    "    h = 10e-50  #丸め誤差の問題が起きる\n",
    "    return (f(x+h) -f(x) / h)"
   ]
  },
  {
   "cell_type": "code",
   "execution_count": 21,
   "metadata": {},
   "outputs": [
    {
     "data": {
      "text/plain": [
       "0.0"
      ]
     },
     "execution_count": 21,
     "metadata": {},
     "output_type": "execute_result"
    }
   ],
   "source": [
    "# 丸め誤差の例\n",
    "np.float32(1e-50)"
   ]
  },
  {
   "cell_type": "code",
   "execution_count": 23,
   "metadata": {},
   "outputs": [],
   "source": [
    "# 中心差分をとる\n",
    "def numerical_diff(f, x):\n",
    "    h = 1e-4 # 0.0001\n",
    "    return (f(x+h) - f(x-h)) / (2*h)"
   ]
  },
  {
   "cell_type": "code",
   "execution_count": 24,
   "metadata": {},
   "outputs": [],
   "source": [
    "# 4.3.2\n",
    "def function_1(x):\n",
    "    return 0.01*x**2 + 0.1*x"
   ]
  },
  {
   "cell_type": "code",
   "execution_count": 26,
   "metadata": {},
   "outputs": [
    {
     "data": {
      "image/png": "[encoded data removed]",
      "text/plain": [
       "<matplotlib.figure.Figure at 0x2cbc1ea3668>"
      ]
     },
     "metadata": {},
     "output_type": "display_data"
    }
   ],
   "source": [
    "import numpy as np\n",
    "import matplotlib.pylab as plt\n",
    "\n",
    "x = np.arange(0.0, 20.0, 0.1) # 0から20まで、0.1刻みのx配列\n",
    "y = function_1(x)\n",
    "plt.xlabel(\"x\")\n",
    "plt.ylabel(\"f(x)\")\n",
    "plt.plot(x, y)\n",
    "plt.show()"
   ]
  },
  {
   "cell_type": "code",
   "execution_count": 27,
   "metadata": {},
   "outputs": [
    {
     "data": {
      "text/plain": [
       "0.1999999999990898"
      ]
     },
     "execution_count": 27,
     "metadata": {},
     "output_type": "execute_result"
    }
   ],
   "source": [
    "numerical_diff(function_1, 5)"
   ]
  },
  {
   "cell_type": "code",
   "execution_count": 28,
   "metadata": {},
   "outputs": [
    {
     "data": {
      "text/plain": [
       "0.2999999999986347"
      ]
     },
     "execution_count": 28,
     "metadata": {},
     "output_type": "execute_result"
    }
   ],
   "source": [
    "numerical_diff(function_1, 10)"
   ]
  },
  {
   "cell_type": "code",
   "execution_count": 29,
   "metadata": {
    "scrolled": true
   },
   "outputs": [
    {
     "name": "stdout",
     "output_type": "stream",
     "text": [
      "0.1999999999990898\n"
     ]
    },
    {
     "data": {
      "image/png": "[encoded data removed]",
      "text/plain": [
       "<matplotlib.figure.Figure at 0x2cbbdcf79e8>"
      ]
     },
     "metadata": {},
     "output_type": "display_data"
    }
   ],
   "source": [
    "# coding: utf-8\n",
    "import numpy as np\n",
    "import matplotlib.pylab as plt\n",
    "\n",
    "\n",
    "def numerical_diff(f, x):\n",
    "    h = 1e-4 # 0.0001\n",
    "    return (f(x+h) - f(x-h)) / (2*h)\n",
    "\n",
    "\n",
    "def function_1(x):\n",
    "    return 0.01*x**2 + 0.1*x \n",
    "\n",
    "\n",
    "def tangent_line(f, x):\n",
    "    d = numerical_diff(f, x)\n",
    "    print(d)\n",
    "    y = f(x) - d*x\n",
    "    return lambda t: d*t + y\n",
    "     \n",
    "x = np.arange(0.0, 20.0, 0.1)\n",
    "y = function_1(x)\n",
    "plt.xlabel(\"x\")\n",
    "plt.ylabel(\"f(x)\")\n",
    "\n",
    "tf = tangent_line(function_1, 5)\n",
    "y2 = tf(x)\n",
    "\n",
    "plt.plot(x, y)\n",
    "plt.plot(x, y2)\n",
    "plt.show()\n"
   ]
  },
  {
   "cell_type": "code",
   "execution_count": 31,
   "metadata": {},
   "outputs": [],
   "source": [
    "# 4.3.3\n",
    "def function_2(x):\n",
    "    return x[0]**2 + x[1]**2\n",
    "    # または return np.sum(x**2)"
   ]
  },
  {
   "cell_type": "code",
   "execution_count": 44,
   "metadata": {},
   "outputs": [
    {
     "data": {
      "image/png": "[encoded data removed]",
      "text/plain": [
       "<matplotlib.figure.Figure at 0x2cbc28ceda0>"
      ]
     },
     "metadata": {},
     "output_type": "display_data"
    }
   ],
   "source": [
    "# 発展\n",
    "# https://qiita.com/orange_u/items/8a1e285a45093857aef7\n",
    "\n",
    "# import\n",
    "from mpl_toolkits.mplot3d import Axes3D\n",
    "import matplotlib.pyplot as plt\n",
    "import numpy as np\n",
    "\n",
    "# 関数定義\n",
    "def func1(x, y):\n",
    "    return x**2 + y**2\n",
    "\n",
    "# 軸範囲\n",
    "x = np.arange(-3.0, 3.0, 0.1)\n",
    "y = np.arange(-3.0, 3.0, 0.1)\n",
    "\n",
    "# X,Y,Zを定義\n",
    "X, Y = np.meshgrid(x, y)\n",
    "Z = func1(X, Y)\n",
    "\n",
    "# グラフの作成\n",
    "fig = plt.figure()\n",
    "ax = Axes3D(fig)\n",
    "\n",
    "# 軸ラベルの設定\n",
    "ax.set_xlabel(\"x\")\n",
    "ax.set_ylabel(\"y\")\n",
    "ax.set_zlabel(\"f(x, y)\")\n",
    "\n",
    "# グラフ描画\n",
    "ax.plot_wireframe(X, Y, Z)\n",
    "plt.show()"
   ]
  },
  {
   "cell_type": "code",
   "execution_count": 45,
   "metadata": {},
   "outputs": [
    {
     "ename": "IndexError",
     "evalue": "list index out of range",
     "output_type": "error",
     "traceback": [
      "\u001b[1;31m---------------------------------------------------------------------------\u001b[0m",
      "\u001b[1;31mIndexError\u001b[0m                                Traceback (most recent call last)",
      "\u001b[1;32m<ipython-input-45-37d7a4c3d24f>\u001b[0m in \u001b[0;36m<module>\u001b[1;34m()\u001b[0m\n\u001b[0;32m     17\u001b[0m \u001b[1;31m# X,Y,Zを定義\u001b[0m\u001b[1;33m\u001b[0m\u001b[1;33m\u001b[0m\u001b[0m\n\u001b[0;32m     18\u001b[0m \u001b[0mX\u001b[0m \u001b[1;33m=\u001b[0m \u001b[0mnp\u001b[0m\u001b[1;33m.\u001b[0m\u001b[0mmeshgrid\u001b[0m\u001b[1;33m(\u001b[0m\u001b[0mx\u001b[0m\u001b[1;33m)\u001b[0m\u001b[1;33m\u001b[0m\u001b[0m\n\u001b[1;32m---> 19\u001b[1;33m \u001b[0mY\u001b[0m \u001b[1;33m=\u001b[0m \u001b[0mfunc1\u001b[0m\u001b[1;33m(\u001b[0m\u001b[0mX\u001b[0m\u001b[1;33m[\u001b[0m\u001b[1;36m0\u001b[0m\u001b[1;33m]\u001b[0m\u001b[1;33m,\u001b[0m \u001b[0mX\u001b[0m\u001b[1;33m[\u001b[0m\u001b[1;36m1\u001b[0m\u001b[1;33m]\u001b[0m\u001b[1;33m)\u001b[0m\u001b[1;33m\u001b[0m\u001b[0m\n\u001b[0m\u001b[0;32m     20\u001b[0m \u001b[1;33m\u001b[0m\u001b[0m\n\u001b[0;32m     21\u001b[0m \u001b[1;31m# グラフの作成\u001b[0m\u001b[1;33m\u001b[0m\u001b[1;33m\u001b[0m\u001b[0m\n",
      "\u001b[1;31mIndexError\u001b[0m: list index out of range"
     ]
    }
   ],
   "source": [
    "# 発展\n",
    "# https://qiita.com/orange_u/items/8a1e285a45093857aef7\n",
    "\n",
    "# import\n",
    "from mpl_toolkits.mplot3d import Axes3D\n",
    "import matplotlib.pyplot as plt\n",
    "import numpy as np\n",
    "\n",
    "# 関数定義\n",
    "def function_2(x):\n",
    "    return x[0]**2 + x[1]**2\n",
    "\n",
    "# 軸範囲\n",
    "x = np.arange(-3.0, 3.0, 0.1)\n",
    "\n",
    "\n",
    "# X,Y,Zを定義\n",
    "X = np.meshgrid(x)\n",
    "Y = func1(X[0], X[1])\n",
    "\n",
    "# グラフの作成\n",
    "fig = plt.figure()\n",
    "ax = Axes3D(fig)\n",
    "\n",
    "# 軸ラベルの設定\n",
    "ax.set_xlabel(\"x\")\n",
    "ax.set_ylabel(\"y\")\n",
    "ax.set_zlabel(\"f(x, y)\")\n",
    "\n",
    "# グラフ描画\n",
    "ax.plot_wireframe(X[0], X[1], Y)\n",
    "plt.show()\n",
    "\n",
    "\n",
    "#失敗"
   ]
  },
  {
   "cell_type": "code",
   "execution_count": 46,
   "metadata": {},
   "outputs": [
    {
     "data": {
      "text/plain": [
       "6.00000000000378"
      ]
     },
     "execution_count": 46,
     "metadata": {},
     "output_type": "execute_result"
    }
   ],
   "source": [
    "# 問1\n",
    "def function_tmp(x0):\n",
    "    return x0*x0 + 4.0**2.0\n",
    "\n",
    "numerical_diff(function_tmp, 3.0)"
   ]
  },
  {
   "cell_type": "code",
   "execution_count": 47,
   "metadata": {},
   "outputs": [
    {
     "data": {
      "text/plain": [
       "7.999999999999119"
      ]
     },
     "execution_count": 47,
     "metadata": {},
     "output_type": "execute_result"
    }
   ],
   "source": [
    "def function_tmp2(x1):\n",
    "    return 3.0**2.0 + x1*x1\n",
    "\n",
    "numerical_diff(function_tmp2, 4.0)"
   ]
  },
  {
   "cell_type": "code",
   "execution_count": 48,
   "metadata": {},
   "outputs": [],
   "source": [
    "# 4.4 勾配\n",
    "def numerical_gradient(f, x):\n",
    "    h = 1e-4 # 0.0001\n",
    "    grad = np.zeros_like(x) # xと同じ形状の配列を生成\n",
    "    \n",
    "    for idx in range(x.size):\n",
    "        tmp_val = x[idx]\n",
    "        # f(x+h)の計算\n",
    "        x[idx] = tmp_val + h\n",
    "        fxh1 = f(x)\n",
    "        \n",
    "        # f(x-h)の計算\n",
    "        x[idx] = tmp_val - h\n",
    "        fxh2 = f(x)\n",
    "        \n",
    "        grad[idx] = (fxh1 - fxh2) / (2*h)\n",
    "        x[idx] = tmp_val # 値を元に戻す\n",
    "    \n",
    "    return grad"
   ]
  },
  {
   "cell_type": "code",
   "execution_count": 49,
   "metadata": {},
   "outputs": [
    {
     "data": {
      "text/plain": [
       "array([ 6.,  8.])"
      ]
     },
     "execution_count": 49,
     "metadata": {},
     "output_type": "execute_result"
    }
   ],
   "source": [
    "numerical_gradient(function_2, np.array([3.0, 4.0]))"
   ]
  },
  {
   "cell_type": "code",
   "execution_count": 50,
   "metadata": {},
   "outputs": [
    {
     "data": {
      "text/plain": [
       "array([ 0.,  4.])"
      ]
     },
     "execution_count": 50,
     "metadata": {},
     "output_type": "execute_result"
    }
   ],
   "source": [
    "numerical_gradient(function_2, np.array([0.0, 2.0]))"
   ]
  },
  {
   "cell_type": "code",
   "execution_count": 51,
   "metadata": {},
   "outputs": [
    {
     "data": {
      "text/plain": [
       "array([ 6.,  0.])"
      ]
     },
     "execution_count": 51,
     "metadata": {},
     "output_type": "execute_result"
    }
   ],
   "source": [
    "numerical_gradient(function_2, np.array([3.0, 0.0]))"
   ]
  },
  {
   "cell_type": "code",
   "execution_count": 52,
   "metadata": {},
   "outputs": [
    {
     "name": "stderr",
     "output_type": "stream",
     "text": [
      "C:\\Users\\NEC-PCuser\\Anaconda3\\lib\\site-packages\\matplotlib\\axes\\_axes.py:545: UserWarning: No labelled objects found. Use label='...' kwarg on individual plots.\n",
      "  warnings.warn(\"No labelled objects found. \"\n"
     ]
    },
    {
     "data": {
      "image/png": "[encoded data removed]",
      "text/plain": [
       "<matplotlib.figure.Figure at 0x2cbc2826828>"
      ]
     },
     "metadata": {},
     "output_type": "display_data"
    }
   ],
   "source": [
    "# coding: utf-8\n",
    "# cf.http://d.hatena.ne.jp/white_wheels/20100327/p3\n",
    "import numpy as np\n",
    "import matplotlib.pylab as plt\n",
    "from mpl_toolkits.mplot3d import Axes3D\n",
    "\n",
    "\n",
    "def _numerical_gradient_no_batch(f, x):\n",
    "    h = 1e-4  # 0.0001\n",
    "    grad = np.zeros_like(x)\n",
    "    \n",
    "    for idx in range(x.size):\n",
    "        tmp_val = x[idx]\n",
    "        x[idx] = float(tmp_val) + h\n",
    "        fxh1 = f(x)  # f(x+h)\n",
    "        \n",
    "        x[idx] = tmp_val - h \n",
    "        fxh2 = f(x)  # f(x-h)\n",
    "        grad[idx] = (fxh1 - fxh2) / (2*h)\n",
    "        \n",
    "        x[idx] = tmp_val  # 値を元に戻す\n",
    "        \n",
    "    return grad\n",
    "\n",
    "\n",
    "def numerical_gradient(f, X):\n",
    "    if X.ndim == 1:\n",
    "        return _numerical_gradient_no_batch(f, X)\n",
    "    else:\n",
    "        grad = np.zeros_like(X)\n",
    "        \n",
    "        for idx, x in enumerate(X):\n",
    "            grad[idx] = _numerical_gradient_no_batch(f, x)\n",
    "        \n",
    "        return grad\n",
    "\n",
    "\n",
    "def function_2(x):\n",
    "    if x.ndim == 1:\n",
    "        return np.sum(x**2)\n",
    "    else:\n",
    "        return np.sum(x**2, axis=1)\n",
    "\n",
    "\n",
    "def tangent_line(f, x):\n",
    "    d = numerical_gradient(f, x)\n",
    "    print(d)\n",
    "    y = f(x) - d*x\n",
    "    return lambda t: d*t + y\n",
    "\n",
    "\n",
    "if __name__ == '__main__':\n",
    "    x0 = np.arange(-2, 2.5, 0.25)\n",
    "    x1 = np.arange(-2, 2.5, 0.25)\n",
    "    X, Y = np.meshgrid(x0, x1)\n",
    "    \n",
    "    X = X.flatten()\n",
    "    Y = Y.flatten()\n",
    "    \n",
    "    grad = numerical_gradient(function_2, np.array([X, Y]))\n",
    "    \n",
    "    plt.figure()\n",
    "    plt.quiver(X, Y, -grad[0], -grad[1],  angles=\"xy\",color=\"#666666\")\n",
    "    plt.xlim([-2, 2])\n",
    "    plt.ylim([-2, 2])\n",
    "    plt.xlabel('x0')\n",
    "    plt.ylabel('x1')\n",
    "    plt.grid()\n",
    "    plt.legend()\n",
    "    plt.draw()\n",
    "    plt.show()"
   ]
  },
  {
   "cell_type": "code",
   "execution_count": 54,
   "metadata": {},
   "outputs": [],
   "source": [
    "# 4.4.1\n",
    "\n",
    "def gradient_descent(f, init_x, lr=0.01, step_num=100):\n",
    "    x = init_x # 初期値\n",
    "    \n",
    "    for i in range(step_num): #step_numは勾配法による繰り返しの数\n",
    "        grad = numerical_gradient(f, x)\n",
    "        x -= lr * grad # lrはlearning rate(学習率)\n",
    "        \n",
    "    return x"
   ]
  },
  {
   "cell_type": "code",
   "execution_count": 61,
   "metadata": {},
   "outputs": [
    {
     "data": {
      "text/plain": [
       "(array([ -6.11110793e-10,   8.14814391e-10]),\n",
       " array([[ -3.00000000e+00,   4.00000000e+00],\n",
       "        [ -2.40000000e+00,   3.20000000e+00],\n",
       "        [ -1.92000000e+00,   2.56000000e+00],\n",
       "        [ -1.53600000e+00,   2.04800000e+00],\n",
       "        [ -1.22880000e+00,   1.63840000e+00],\n",
       "        [ -9.83040000e-01,   1.31072000e+00],\n",
       "        [ -7.86432000e-01,   1.04857600e+00],\n",
       "        [ -6.29145600e-01,   8.38860800e-01],\n",
       "        [ -5.03316480e-01,   6.71088640e-01],\n",
       "        [ -4.02653184e-01,   5.36870912e-01],\n",
       "        [ -3.22122547e-01,   4.29496730e-01],\n",
       "        [ -2.57698038e-01,   3.43597384e-01],\n",
       "        [ -2.06158430e-01,   2.74877907e-01],\n",
       "        [ -1.64926744e-01,   2.19902326e-01],\n",
       "        [ -1.31941395e-01,   1.75921860e-01],\n",
       "        [ -1.05553116e-01,   1.40737488e-01],\n",
       "        [ -8.44424930e-02,   1.12589991e-01],\n",
       "        [ -6.75539944e-02,   9.00719925e-02],\n",
       "        [ -5.40431955e-02,   7.20575940e-02],\n",
       "        [ -4.32345564e-02,   5.76460752e-02],\n",
       "        [ -3.45876451e-02,   4.61168602e-02],\n",
       "        [ -2.76701161e-02,   3.68934881e-02],\n",
       "        [ -2.21360929e-02,   2.95147905e-02],\n",
       "        [ -1.77088743e-02,   2.36118324e-02],\n",
       "        [ -1.41670994e-02,   1.88894659e-02],\n",
       "        [ -1.13336796e-02,   1.51115727e-02],\n",
       "        [ -9.06694365e-03,   1.20892582e-02],\n",
       "        [ -7.25355492e-03,   9.67140656e-03],\n",
       "        [ -5.80284393e-03,   7.73712525e-03],\n",
       "        [ -4.64227515e-03,   6.18970020e-03],\n",
       "        [ -3.71382012e-03,   4.95176016e-03],\n",
       "        [ -2.97105609e-03,   3.96140813e-03],\n",
       "        [ -2.37684488e-03,   3.16912650e-03],\n",
       "        [ -1.90147590e-03,   2.53530120e-03],\n",
       "        [ -1.52118072e-03,   2.02824096e-03],\n",
       "        [ -1.21694458e-03,   1.62259277e-03],\n",
       "        [ -9.73555661e-04,   1.29807421e-03],\n",
       "        [ -7.78844529e-04,   1.03845937e-03],\n",
       "        [ -6.23075623e-04,   8.30767497e-04],\n",
       "        [ -4.98460498e-04,   6.64613998e-04],\n",
       "        [ -3.98768399e-04,   5.31691198e-04],\n",
       "        [ -3.19014719e-04,   4.25352959e-04],\n",
       "        [ -2.55211775e-04,   3.40282367e-04],\n",
       "        [ -2.04169420e-04,   2.72225894e-04],\n",
       "        [ -1.63335536e-04,   2.17780715e-04],\n",
       "        [ -1.30668429e-04,   1.74224572e-04],\n",
       "        [ -1.04534743e-04,   1.39379657e-04],\n",
       "        [ -8.36277945e-05,   1.11503726e-04],\n",
       "        [ -6.69022356e-05,   8.92029808e-05],\n",
       "        [ -5.35217885e-05,   7.13623846e-05],\n",
       "        [ -4.28174308e-05,   5.70899077e-05],\n",
       "        [ -3.42539446e-05,   4.56719262e-05],\n",
       "        [ -2.74031557e-05,   3.65375409e-05],\n",
       "        [ -2.19225246e-05,   2.92300327e-05],\n",
       "        [ -1.75380196e-05,   2.33840262e-05],\n",
       "        [ -1.40304157e-05,   1.87072210e-05],\n",
       "        [ -1.12243326e-05,   1.49657768e-05],\n",
       "        [ -8.97946606e-06,   1.19726214e-05],\n",
       "        [ -7.18357285e-06,   9.57809713e-06],\n",
       "        [ -5.74685828e-06,   7.66247770e-06],\n",
       "        [ -4.59748662e-06,   6.12998216e-06],\n",
       "        [ -3.67798930e-06,   4.90398573e-06],\n",
       "        [ -2.94239144e-06,   3.92318858e-06],\n",
       "        [ -2.35391315e-06,   3.13855087e-06],\n",
       "        [ -1.88313052e-06,   2.51084069e-06],\n",
       "        [ -1.50650442e-06,   2.00867256e-06],\n",
       "        [ -1.20520353e-06,   1.60693804e-06],\n",
       "        [ -9.64162827e-07,   1.28555044e-06],\n",
       "        [ -7.71330261e-07,   1.02844035e-06],\n",
       "        [ -6.17064209e-07,   8.22752279e-07],\n",
       "        [ -4.93651367e-07,   6.58201823e-07],\n",
       "        [ -3.94921094e-07,   5.26561458e-07],\n",
       "        [ -3.15936875e-07,   4.21249167e-07],\n",
       "        [ -2.52749500e-07,   3.36999333e-07],\n",
       "        [ -2.02199600e-07,   2.69599467e-07],\n",
       "        [ -1.61759680e-07,   2.15679573e-07],\n",
       "        [ -1.29407744e-07,   1.72543659e-07],\n",
       "        [ -1.03526195e-07,   1.38034927e-07],\n",
       "        [ -8.28209562e-08,   1.10427942e-07],\n",
       "        [ -6.62567649e-08,   8.83423532e-08],\n",
       "        [ -5.30054119e-08,   7.06738826e-08],\n",
       "        [ -4.24043296e-08,   5.65391061e-08],\n",
       "        [ -3.39234636e-08,   4.52312849e-08],\n",
       "        [ -2.71387709e-08,   3.61850279e-08],\n",
       "        [ -2.17110167e-08,   2.89480223e-08],\n",
       "        [ -1.73688134e-08,   2.31584178e-08],\n",
       "        [ -1.38950507e-08,   1.85267343e-08],\n",
       "        [ -1.11160406e-08,   1.48213874e-08],\n",
       "        [ -8.89283245e-09,   1.18571099e-08],\n",
       "        [ -7.11426596e-09,   9.48568795e-09],\n",
       "        [ -5.69141277e-09,   7.58855036e-09],\n",
       "        [ -4.55313022e-09,   6.07084029e-09],\n",
       "        [ -3.64250417e-09,   4.85667223e-09],\n",
       "        [ -2.91400334e-09,   3.88533778e-09],\n",
       "        [ -2.33120267e-09,   3.10827023e-09],\n",
       "        [ -1.86496214e-09,   2.48661618e-09],\n",
       "        [ -1.49196971e-09,   1.98929295e-09],\n",
       "        [ -1.19357577e-09,   1.59143436e-09],\n",
       "        [ -9.54860614e-10,   1.27314749e-09],\n",
       "        [ -7.63888491e-10,   1.01851799e-09]]))"
      ]
     },
     "execution_count": 61,
     "metadata": {},
     "output_type": "execute_result"
    }
   ],
   "source": [
    "def function_2(x):\n",
    "    return x[0]**2 + x[1]**2\n",
    "\n",
    "init_x = np.array([-3.0, 4.0])\n",
    "gradient_descent(function_2, init_x=init_x, lr=0.1, step_num=100)"
   ]
  },
  {
   "cell_type": "code",
   "execution_count": 57,
   "metadata": {},
   "outputs": [
    {
     "data": {
      "image/png": "[encoded data removed]",
      "text/plain": [
       "<matplotlib.figure.Figure at 0x2cbc2826438>"
      ]
     },
     "metadata": {},
     "output_type": "display_data"
    }
   ],
   "source": [
    "# coding: utf-8\n",
    "import numpy as np\n",
    "import matplotlib.pylab as plt\n",
    "from gradient_2d import numerical_gradient\n",
    "\n",
    "\n",
    "def gradient_descent(f, init_x, lr=0.01, step_num=100):\n",
    "    x = init_x\n",
    "    x_history = []\n",
    "\n",
    "    for i in range(step_num):\n",
    "        x_history.append( x.copy() )\n",
    "\n",
    "        grad = numerical_gradient(f, x)\n",
    "        x -= lr * grad\n",
    "\n",
    "    return x, np.array(x_history)\n",
    "\n",
    "\n",
    "def function_2(x):\n",
    "    return x[0]**2 + x[1]**2\n",
    "\n",
    "init_x = np.array([-3.0, 4.0])    \n",
    "\n",
    "lr = 0.1\n",
    "step_num = 20\n",
    "x, x_history = gradient_descent(function_2, init_x, lr=lr, step_num=step_num)\n",
    "\n",
    "plt.plot( [-5, 5], [0,0], '--b')\n",
    "plt.plot( [0,0], [-5, 5], '--b')\n",
    "plt.plot(x_history[:,0], x_history[:,1], 'o')\n",
    "\n",
    "plt.xlim(-3.5, 3.5)\n",
    "plt.ylim(-4.5, 4.5)\n",
    "plt.xlabel(\"X0\")\n",
    "plt.ylabel(\"X1\")\n",
    "plt.show()"
   ]
  },
  {
   "cell_type": "code",
   "execution_count": 60,
   "metadata": {},
   "outputs": [
    {
     "data": {
      "text/plain": [
       "(array([-2.99999994,  3.99999992]), array([[-3.        ,  4.        ],\n",
       "        [-3.        ,  4.        ],\n",
       "        [-3.        ,  4.        ],\n",
       "        [-3.        ,  4.        ],\n",
       "        [-3.        ,  4.        ],\n",
       "        [-3.        ,  4.        ],\n",
       "        [-3.        ,  4.        ],\n",
       "        [-3.        ,  3.99999999],\n",
       "        [-3.        ,  3.99999999],\n",
       "        [-2.99999999,  3.99999999],\n",
       "        [-2.99999999,  3.99999999],\n",
       "        [-2.99999999,  3.99999999],\n",
       "        [-2.99999999,  3.99999999],\n",
       "        [-2.99999999,  3.99999999],\n",
       "        [-2.99999999,  3.99999999],\n",
       "        [-2.99999999,  3.99999999],\n",
       "        [-2.99999999,  3.99999999],\n",
       "        [-2.99999999,  3.99999999],\n",
       "        [-2.99999999,  3.99999999],\n",
       "        [-2.99999999,  3.99999998],\n",
       "        [-2.99999999,  3.99999998],\n",
       "        [-2.99999999,  3.99999998],\n",
       "        [-2.99999999,  3.99999998],\n",
       "        [-2.99999999,  3.99999998],\n",
       "        [-2.99999999,  3.99999998],\n",
       "        [-2.99999998,  3.99999998],\n",
       "        [-2.99999998,  3.99999998],\n",
       "        [-2.99999998,  3.99999998],\n",
       "        [-2.99999998,  3.99999998],\n",
       "        [-2.99999998,  3.99999998],\n",
       "        [-2.99999998,  3.99999998],\n",
       "        [-2.99999998,  3.99999998],\n",
       "        [-2.99999998,  3.99999997],\n",
       "        [-2.99999998,  3.99999997],\n",
       "        [-2.99999998,  3.99999997],\n",
       "        [-2.99999998,  3.99999997],\n",
       "        [-2.99999998,  3.99999997],\n",
       "        [-2.99999998,  3.99999997],\n",
       "        [-2.99999998,  3.99999997],\n",
       "        [-2.99999998,  3.99999997],\n",
       "        [-2.99999998,  3.99999997],\n",
       "        [-2.99999998,  3.99999997],\n",
       "        [-2.99999997,  3.99999997],\n",
       "        [-2.99999997,  3.99999997],\n",
       "        [-2.99999997,  3.99999996],\n",
       "        [-2.99999997,  3.99999996],\n",
       "        [-2.99999997,  3.99999996],\n",
       "        [-2.99999997,  3.99999996],\n",
       "        [-2.99999997,  3.99999996],\n",
       "        [-2.99999997,  3.99999996],\n",
       "        [-2.99999997,  3.99999996],\n",
       "        [-2.99999997,  3.99999996],\n",
       "        [-2.99999997,  3.99999996],\n",
       "        [-2.99999997,  3.99999996],\n",
       "        [-2.99999997,  3.99999996],\n",
       "        [-2.99999997,  3.99999996],\n",
       "        [-2.99999997,  3.99999996],\n",
       "        [-2.99999997,  3.99999995],\n",
       "        [-2.99999997,  3.99999995],\n",
       "        [-2.99999996,  3.99999995],\n",
       "        [-2.99999996,  3.99999995],\n",
       "        [-2.99999996,  3.99999995],\n",
       "        [-2.99999996,  3.99999995],\n",
       "        [-2.99999996,  3.99999995],\n",
       "        [-2.99999996,  3.99999995],\n",
       "        [-2.99999996,  3.99999995],\n",
       "        [-2.99999996,  3.99999995],\n",
       "        [-2.99999996,  3.99999995],\n",
       "        [-2.99999996,  3.99999995],\n",
       "        [-2.99999996,  3.99999994],\n",
       "        [-2.99999996,  3.99999994],\n",
       "        [-2.99999996,  3.99999994],\n",
       "        [-2.99999996,  3.99999994],\n",
       "        [-2.99999996,  3.99999994],\n",
       "        [-2.99999996,  3.99999994],\n",
       "        [-2.99999995,  3.99999994],\n",
       "        [-2.99999995,  3.99999994],\n",
       "        [-2.99999995,  3.99999994],\n",
       "        [-2.99999995,  3.99999994],\n",
       "        [-2.99999995,  3.99999994],\n",
       "        [-2.99999995,  3.99999994],\n",
       "        [-2.99999995,  3.99999994],\n",
       "        [-2.99999995,  3.99999993],\n",
       "        [-2.99999995,  3.99999993],\n",
       "        [-2.99999995,  3.99999993],\n",
       "        [-2.99999995,  3.99999993],\n",
       "        [-2.99999995,  3.99999993],\n",
       "        [-2.99999995,  3.99999993],\n",
       "        [-2.99999995,  3.99999993],\n",
       "        [-2.99999995,  3.99999993],\n",
       "        [-2.99999995,  3.99999993],\n",
       "        [-2.99999995,  3.99999993],\n",
       "        [-2.99999994,  3.99999993],\n",
       "        [-2.99999994,  3.99999993],\n",
       "        [-2.99999994,  3.99999992],\n",
       "        [-2.99999994,  3.99999992],\n",
       "        [-2.99999994,  3.99999992],\n",
       "        [-2.99999994,  3.99999992],\n",
       "        [-2.99999994,  3.99999992],\n",
       "        [-2.99999994,  3.99999992]]))"
      ]
     },
     "execution_count": 60,
     "metadata": {},
     "output_type": "execute_result"
    }
   ],
   "source": [
    "init_x = np.array([-3.0, 4.0])\n",
    "gradient_descent(function_2, init_x=init_x, lr=1e-10, step_num=100)\n",
    "\n",
    "# 多数表示されるのはバグ"
   ]
  },
  {
   "cell_type": "code",
   "execution_count": 63,
   "metadata": {},
   "outputs": [],
   "source": [
    "# 4.4.2 ニューラルネットワークに対する勾配\n",
    "\n",
    "import sys, os\n",
    "sys.path.append(os.pardir)\n",
    "import numpy as np\n",
    "from common.functions import softmax, cross_entropy_error #softmaxとcross_entropy_errorメソッドを使用\n",
    "from common.gradient import numerical_gradient\n",
    "\n",
    "class simpleNet: #simpleNetのクラスを実装\n",
    "    def __init__(self):\n",
    "        self.W = np.random.randn(2, 3) # ガウス分布で初期化\n",
    "    \n",
    "    def predict(self, x):\n",
    "        return np.dot(x, self.W)\n",
    "    \n",
    "    def loss(self, x, t):\n",
    "        z = self.predict(x)\n",
    "        y = softmax(z)\n",
    "        loss = cross_entropy_error(y, t)\n",
    "        \n",
    "        return loss"
   ]
  },
  {
   "cell_type": "code",
   "execution_count": 71,
   "metadata": {},
   "outputs": [
    {
     "name": "stdout",
     "output_type": "stream",
     "text": [
      "[[ 0.33121016  0.69700865  0.41323223]\n",
      " [ 2.49547606 -0.54200009 -2.12083769]]\n"
     ]
    }
   ],
   "source": [
    "net = simpleNet()\n",
    "print(net.W) #重みパラメータ"
   ]
  },
  {
   "cell_type": "code",
   "execution_count": 72,
   "metadata": {},
   "outputs": [
    {
     "name": "stdout",
     "output_type": "stream",
     "text": [
      "[ 2.44465455 -0.06959489 -1.66081458]\n"
     ]
    }
   ],
   "source": [
    "x = np.array([0.6, 0.9])\n",
    "p = net.predict(x) #予測する多めのメソッド\n",
    "print(p)"
   ]
  },
  {
   "cell_type": "code",
   "execution_count": 77,
   "metadata": {},
   "outputs": [
    {
     "data": {
      "text/plain": [
       "0"
      ]
     },
     "execution_count": 77,
     "metadata": {},
     "output_type": "execute_result"
    }
   ],
   "source": [
    "np.argmax(p)"
   ]
  },
  {
   "cell_type": "code",
   "execution_count": 78,
   "metadata": {},
   "outputs": [
    {
     "data": {
      "text/plain": [
       "4.1985209523124878"
      ]
     },
     "execution_count": 78,
     "metadata": {},
     "output_type": "execute_result"
    }
   ],
   "source": [
    "t = np.array([0, 0, 1]) #正解ラベル\n",
    "net.loss(x, t) #損失関数の値を求めるためのメソッド"
   ]
  },
  {
   "cell_type": "code",
   "execution_count": 79,
   "metadata": {},
   "outputs": [
    {
     "name": "stdout",
     "output_type": "stream",
     "text": [
      "[[ 0.54674609  0.04423937 -0.59098546]\n",
      " [ 0.82011914  0.06635905 -0.88647819]]\n"
     ]
    }
   ],
   "source": [
    "# 勾配を求める\n",
    "def f(W): #損失関数を計算する新しい関数fを定義\n",
    "    return net.loss(x, t)\n",
    "\n",
    "dW = numerical_gradient(f, net.W) #結果はdWとなる\n",
    "print(dW)"
   ]
  },
  {
   "cell_type": "code",
   "execution_count": 81,
   "metadata": {},
   "outputs": [],
   "source": [
    "# lambda記法を使ったプログラム\n",
    "f = lambda w: net.loss(x, t)\n",
    "dW = numerical_gradient(f, net.W)"
   ]
  },
  {
   "cell_type": "code",
   "execution_count": 99,
   "metadata": {},
   "outputs": [],
   "source": [
    "import sys, os\n",
    "sys.path.append(os.pardir)\n",
    "from common.functions import *\n",
    "from common.gradient import numerical_gradient\n",
    "\n",
    "class TwoLayerNet:\n",
    "    \n",
    "    def __init__(self, input_size, hidden_size, output_size, weight_init_std=0.01):\n",
    "        #重みの初期化\n",
    "        self.params = {}\n",
    "        self.params['W1'] = weight_init_std * np.random.randn(input_size, hidden_size)\n",
    "        self.params['b1'] = np.zeros(hidden_size)\n",
    "        self.params['W2'] = weight_init_std * np.random.randn(hidden_size, output_size)\n",
    "        self.params['b2'] = np.zeros(output_size)\n",
    "        \n",
    "    def predict(self, x):\n",
    "        W1, W2 = self.params['W1'], self.params['W2']\n",
    "        b1, b2 = self.params['b1'], self.params['b2']\n",
    "        \n",
    "        a1 = np.dot(x, W1) + b1\n",
    "        z1 = sigmoid(a1)\n",
    "        a2 = np.dot(z1, W2) + b2\n",
    "        y = softmax(a2)\n",
    "        \n",
    "        return y\n",
    "    \n",
    "    # x:入力データ, t:教師データ\n",
    "    def loss(self, x, t):\n",
    "        y = self.predict(x)\n",
    "    \n",
    "        return cross_entropy_error(y, t)\n",
    "\n",
    "    def accuracy(self, x, t):\n",
    "        y = self.predict(x)\n",
    "        y = np.argmax(y, axis=1)\n",
    "        t = np.argmax(t, axis=1)\n",
    "    \n",
    "        accuracy = np.sum(y==t) / float(x.shape[0])\n",
    "        return accuracy\n",
    "\n",
    "    # x:入力データ, t:教師データ\n",
    "    def numerical_gradient(self, x, t):\n",
    "        loss_W = lambda W: self.loss(x, t)\n",
    "    \n",
    "        grads = {}\n",
    "        grads['W1'] = numerical_gradient(loss_W, self.params['W1'])\n",
    "        grads['b1'] = numerical_gradient(loss_W, self.params['b1']) \n",
    "        grads['W2'] = numerical_gradient(loss_W, self.params['W2'])\n",
    "        grads['b2'] = numerical_gradient(loss_W, self.params['b2'])\n",
    "    \n",
    "        return grads"
   ]
  },
  {
   "cell_type": "code",
   "execution_count": null,
   "metadata": {},
   "outputs": [],
   "source": []
  },
  {
   "cell_type": "code",
   "execution_count": 100,
   "metadata": {},
   "outputs": [
    {
     "data": {
      "text/plain": [
       "(10,)"
      ]
     },
     "execution_count": 100,
     "metadata": {},
     "output_type": "execute_result"
    }
   ],
   "source": [
    "net = TwoLayerNet(input_size=784, hidden_size=100, output_size=10)\n",
    "net.params['W1'].shape # (784, 100)\n",
    "net.params['b1'].shape # (100,)\n",
    "net.params['W2'].shape # (100, 10)\n",
    "net.params['b2'].shape # (10,)"
   ]
  },
  {
   "cell_type": "code",
   "execution_count": 101,
   "metadata": {},
   "outputs": [],
   "source": [
    "x = np.random.rand(100, 784) # ダミーの入力データ\n",
    "y = net.predict(x)"
   ]
  },
  {
   "cell_type": "code",
   "execution_count": 105,
   "metadata": {},
   "outputs": [
    {
     "data": {
      "text/plain": [
       "(10,)"
      ]
     },
     "execution_count": 105,
     "metadata": {},
     "output_type": "execute_result"
    }
   ],
   "source": [
    "x = np.random.rand(100, 784) #ダミーの入力データ (100枚分)\n",
    "t = np.random.rand(100, 10) #ダミーの正解ラベル (100枚分)\n",
    "\n",
    "grads = net.numerical_gradient(x, t) # 勾配を計算\n",
    "\n",
    "grads['W1'].shape # (784, 100)\n",
    "grads['b1'].shape # (100,)\n",
    "grads['W2'].shape # (100, 10)\n",
    "grads['b2'].shape # (10,)"
   ]
  },
  {
   "cell_type": "code",
   "execution_count": null,
   "metadata": {},
   "outputs": [],
   "source": [
    "# 4.5.2 ミニバッチ学習の実装\n",
    "import numpy as np\n",
    "from dataset.mnist import load_mnist\n",
    "from two_layer_net import TwoLayerNet\n",
    "\n",
    "(x_train, t_train), (x_test, t_test) = load_mnist(normalize=True, one_hot_label=True)\n",
    "\n",
    "train_loss_list = []\n",
    "\n",
    "#ハイパーパラメータ\n",
    "iters_num = 10000\n",
    "train_size = x_train.shape[0]\n",
    "batch_size = 100\n",
    "learning_rate = 0.1\n",
    "\n",
    "network = TwoLayerNet(input_size=784, hidden_size=50, output_size=10)\n",
    "\n",
    "for i in range(iters_num):\n",
    "    #ミニバッチの取得\n",
    "    x_batch = x_train[batch_mask]\n",
    "    t_batch = t_train[batch_mask]\n",
    "    \n",
    "    #勾配の計算\n",
    "    grad = network.numerical_gradient(x_batch, t_batch)\n",
    "    # grad = network.gradient(x_batch, t_batch) #高速版\n",
    "    \n",
    "    #パラメータの更新\n",
    "    for key in ('W1', 'b2', 'W2', 'b2'):\n",
    "        network.params[key] -= learning_rate * grad[key]\n",
    "        \n",
    "    #学習経過の記録\n",
    "    loss = network.loss(x_batch, t_batch)\n",
    "    train_loss_list.append(loss)"
   ]
  },
  {
   "cell_type": "code",
   "execution_count": null,
   "metadata": {},
   "outputs": [],
   "source": [
    "# 4.5.3 テストデータで評価\n",
    "import numpy as np\n",
    "from dataset.mnist import load_mnist\n",
    "from two_layer_net import TwoLayerNet\n",
    "\n",
    "(x_train, t_train), (x_test, t_test) = load_mnist(normalize=True, one_hot_label=True)\n",
    "\n",
    "train_loss_list = []\n",
    "train_acc_list = []\n",
    "test_acc_list = []\n",
    "# 1エポックあたりの繰り返し数\n",
    "iter_per_epoch = max(train_size / batch_size, 1)\n",
    "\n",
    "# ハイパーパラメータ\n",
    "iters_num = 10000\n",
    "batch_size = 100\n",
    "learning_rate = 0.1\n",
    "\n",
    "network = TwoLayerNet(input_size=784, hidden_size=50, output_size=10)\n",
    "\n",
    "for i in range(iter_num):\n",
    "    #ミニバッチの取得\n",
    "    batch_mask = np.random.choice(train_size, batch_size)\n",
    "    x_batch = x_train[batch_mask]\n",
    "    t_batch = t_train[batch_mask]\n",
    "    \n",
    "    #勾配の計算\n",
    "    grad = network.numerical_gradient(x_batch, t_batch)\n",
    "    # grad = network.gradient(x_batch, t_batch) #高速版\n",
    "    \n",
    "    #パラメータｎ更新\n",
    "    for key in ('W1', 'b1', 'W2', 'b2'):\n",
    "        network.params[key] -= learning_rate * grad[key]\n",
    "        \n",
    "    loss = network.loss(x_batch, t_batch)\n",
    "    train_loss_list.append(loss)\n",
    "    \n",
    "    # 1エポックごとに認識制度を計算\n",
    "    if i % iter_per_epoch == 0:\n",
    "        train_acc = network.accuracy(x_train, t_train)\n",
    "        test_acc = network.accuracy(x_test, t_test)\n",
    "        train_acc_list.append(train_acc)\n",
    "        test_acc_list.append(test_acc)\n",
    "        print(\"train acc, test acc |\" + str(train_acc)+\",\"+str(test_acc))"
   ]
  },
  {
   "cell_type": "code",
   "execution_count": null,
   "metadata": {},
   "outputs": [],
   "source": []
  }
 ],
 "metadata": {
  "kernelspec": {
   "display_name": "Python 3",
   "language": "python",
   "name": "python3"
  },
  "language_info": {
   "codemirror_mode": {
    "name": "ipython",
    "version": 3
   },
   "file_extension": ".py",
   "mimetype": "text/x-python",
   "name": "python",
   "nbconvert_exporter": "python",
   "pygments_lexer": "ipython3",
   "version": "3.6.5"
  }
 },
 "nbformat": 4,
 "nbformat_minor": 2
}
